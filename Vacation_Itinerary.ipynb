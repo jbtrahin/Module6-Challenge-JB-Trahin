{
 "cells": [
  {
   "cell_type": "code",
   "execution_count": 153,
   "metadata": {},
   "outputs": [],
   "source": [
    "# Import the dependencies.\n",
    "import pandas as pd\n",
    "import gmaps\n",
    "import gmaps.datasets\n",
    "import requests\n",
    "# Import the API key.\n",
    "from config import g_key\n",
    "\n",
    "# Configure gmaps to use your Google API key.\n",
    "gmaps.configure(api_key=g_key)"
   ]
  },
  {
   "cell_type": "code",
   "execution_count": 154,
   "metadata": {},
   "outputs": [
    {
     "data": {
      "text/html": [
       "<div>\n",
       "<style scoped>\n",
       "    .dataframe tbody tr th:only-of-type {\n",
       "        vertical-align: middle;\n",
       "    }\n",
       "\n",
       "    .dataframe tbody tr th {\n",
       "        vertical-align: top;\n",
       "    }\n",
       "\n",
       "    .dataframe thead th {\n",
       "        text-align: right;\n",
       "    }\n",
       "</style>\n",
       "<table border=\"1\" class=\"dataframe\">\n",
       "  <thead>\n",
       "    <tr style=\"text-align: right;\">\n",
       "      <th></th>\n",
       "      <th>City_ID</th>\n",
       "      <th>City</th>\n",
       "      <th>Country</th>\n",
       "      <th>Max Temp</th>\n",
       "      <th>Lat</th>\n",
       "      <th>Lng</th>\n",
       "      <th>Weather Description</th>\n",
       "      <th>Hotel Name</th>\n",
       "    </tr>\n",
       "  </thead>\n",
       "  <tbody>\n",
       "    <tr>\n",
       "      <td>0</td>\n",
       "      <td>7</td>\n",
       "      <td>Avdon</td>\n",
       "      <td>IL</td>\n",
       "      <td>80.60</td>\n",
       "      <td>33.05</td>\n",
       "      <td>35.18</td>\n",
       "      <td>few clouds</td>\n",
       "      <td>Travel Hotel Eilon</td>\n",
       "    </tr>\n",
       "    <tr>\n",
       "      <td>1</td>\n",
       "      <td>13</td>\n",
       "      <td>Arraial Do Cabo</td>\n",
       "      <td>BR</td>\n",
       "      <td>82.40</td>\n",
       "      <td>-22.97</td>\n",
       "      <td>-42.02</td>\n",
       "      <td>broken clouds</td>\n",
       "      <td>Pousada Porto Praia</td>\n",
       "    </tr>\n",
       "    <tr>\n",
       "      <td>2</td>\n",
       "      <td>14</td>\n",
       "      <td>Touros</td>\n",
       "      <td>BR</td>\n",
       "      <td>86.00</td>\n",
       "      <td>-5.20</td>\n",
       "      <td>-35.46</td>\n",
       "      <td>scattered clouds</td>\n",
       "      <td>INN NEW HORIZON</td>\n",
       "    </tr>\n",
       "    <tr>\n",
       "      <td>3</td>\n",
       "      <td>15</td>\n",
       "      <td>Atuona</td>\n",
       "      <td>PF</td>\n",
       "      <td>79.32</td>\n",
       "      <td>-9.80</td>\n",
       "      <td>-139.03</td>\n",
       "      <td>clear sky</td>\n",
       "      <td>Villa Enata</td>\n",
       "    </tr>\n",
       "    <tr>\n",
       "      <td>4</td>\n",
       "      <td>26</td>\n",
       "      <td>Kapaa</td>\n",
       "      <td>US</td>\n",
       "      <td>75.20</td>\n",
       "      <td>22.08</td>\n",
       "      <td>-159.32</td>\n",
       "      <td>overcast clouds</td>\n",
       "      <td>Courtyard by Marriott Kaua'i at Coconut Beach</td>\n",
       "    </tr>\n",
       "  </tbody>\n",
       "</table>\n",
       "</div>"
      ],
      "text/plain": [
       "   City_ID             City Country  Max Temp    Lat     Lng  \\\n",
       "0        7            Avdon      IL     80.60  33.05   35.18   \n",
       "1       13  Arraial Do Cabo      BR     82.40 -22.97  -42.02   \n",
       "2       14           Touros      BR     86.00  -5.20  -35.46   \n",
       "3       15           Atuona      PF     79.32  -9.80 -139.03   \n",
       "4       26            Kapaa      US     75.20  22.08 -159.32   \n",
       "\n",
       "  Weather Description                                     Hotel Name  \n",
       "0          few clouds                             Travel Hotel Eilon  \n",
       "1       broken clouds                            Pousada Porto Praia  \n",
       "2    scattered clouds                                INN NEW HORIZON  \n",
       "3           clear sky                                    Villa Enata  \n",
       "4     overcast clouds  Courtyard by Marriott Kaua'i at Coconut Beach  "
      ]
     },
     "execution_count": 154,
     "metadata": {},
     "output_type": "execute_result"
    }
   ],
   "source": [
    "# Store the CSV you saved created in part one into a DataFrame.\n",
    "city_data_df = pd.read_csv(\"weather_data/WeatherPy_vacation.csv\")\n",
    "city_data_df.head()"
   ]
  },
  {
   "cell_type": "code",
   "execution_count": 155,
   "metadata": {},
   "outputs": [],
   "source": [
    "# Filter the DataFrame for each city you want to go to and create separate DataFrames for each city.\n",
    "nepomuceno_df = (city_data_df[city_data_df[\"City\"] == \"Nepomuceno\"])\n",
    "arrail_do_cabo_df = (city_data_df[city_data_df[\"City\"] == \"Arraial Do Cabo\"])\n",
    "ilhabela_df = (city_data_df[city_data_df[\"City\"] == \"Ilhabela\"])\n",
    "porto_novo_df = (city_data_df[city_data_df[\"City\"] == \"Porto Novo\"])\n",
    "\n",
    "nepomuceno_df.iloc[0][\"Lat\"]\n",
    "\n",
    "destinations = [nepomuceno_df, arrail_do_cabo_df, ilhabela_df, porto_novo_df]"
   ]
  },
  {
   "cell_type": "code",
   "execution_count": 156,
   "metadata": {},
   "outputs": [
    {
     "data": {
      "text/plain": [
       "[(-21.23, -45.23), (-22.97, -42.02), (-23.78, -45.36), (-23.68, -45.44)]"
      ]
     },
     "execution_count": 156,
     "metadata": {},
     "output_type": "execute_result"
    }
   ],
   "source": [
    "# Iterate through the DataFrame.\n",
    "city_tuples = []\n",
    "\n",
    "for destination in destinations:\n",
    "\n",
    "    lat = destination.iloc[0][\"Lat\"]\n",
    "    lng = destination.iloc[0][\"Lng\"]\n",
    "\n",
    "    city_tuples.append((lat,lng))\n",
    "\n",
    "city_tuples\n"
   ]
  },
  {
   "cell_type": "code",
   "execution_count": 157,
   "metadata": {},
   "outputs": [
    {
     "data": {
      "application/vnd.jupyter.widget-view+json": {
       "model_id": "3a8bc18d4d4045d695a083734df9f44b",
       "version_major": 2,
       "version_minor": 0
      },
      "text/plain": [
       "Figure(layout=FigureLayout(height='420px'))"
      ]
     },
     "metadata": {},
     "output_type": "display_data"
    }
   ],
   "source": [
    "fig = gmaps.figure()\n",
    "\n",
    "start = city_tuples[0]\n",
    "waypoints = [city_tuples[1], city_tuples[2]]\n",
    "end = city_tuples[3]\n",
    "\n",
    "itinerary = gmaps.directions_layer(start = start, end = end, waypoints = waypoints, travel_mode='DRIVING')\n",
    "\n",
    "fig.add_layer(itinerary)\n",
    "\n",
    "fig"
   ]
  },
  {
   "cell_type": "code",
   "execution_count": 158,
   "metadata": {},
   "outputs": [
    {
     "data": {
      "text/html": [
       "<div>\n",
       "<style scoped>\n",
       "    .dataframe tbody tr th:only-of-type {\n",
       "        vertical-align: middle;\n",
       "    }\n",
       "\n",
       "    .dataframe tbody tr th {\n",
       "        vertical-align: top;\n",
       "    }\n",
       "\n",
       "    .dataframe thead th {\n",
       "        text-align: right;\n",
       "    }\n",
       "</style>\n",
       "<table border=\"1\" class=\"dataframe\">\n",
       "  <thead>\n",
       "    <tr style=\"text-align: right;\">\n",
       "      <th></th>\n",
       "      <th>City</th>\n",
       "      <th>Country</th>\n",
       "      <th>Max Temp</th>\n",
       "      <th>Lat</th>\n",
       "      <th>Lng</th>\n",
       "      <th>Weather Description</th>\n",
       "      <th>Hotel Name</th>\n",
       "    </tr>\n",
       "    <tr>\n",
       "      <th>City_ID</th>\n",
       "      <th></th>\n",
       "      <th></th>\n",
       "      <th></th>\n",
       "      <th></th>\n",
       "      <th></th>\n",
       "      <th></th>\n",
       "      <th></th>\n",
       "    </tr>\n",
       "  </thead>\n",
       "  <tbody>\n",
       "    <tr>\n",
       "      <td>426</td>\n",
       "      <td>Nepomuceno</td>\n",
       "      <td>BR</td>\n",
       "      <td>83.77</td>\n",
       "      <td>-21.23</td>\n",
       "      <td>-45.23</td>\n",
       "      <td>overcast clouds</td>\n",
       "      <td>Hotel Menezes</td>\n",
       "    </tr>\n",
       "    <tr>\n",
       "      <td>13</td>\n",
       "      <td>Arraial Do Cabo</td>\n",
       "      <td>BR</td>\n",
       "      <td>82.40</td>\n",
       "      <td>-22.97</td>\n",
       "      <td>-42.02</td>\n",
       "      <td>broken clouds</td>\n",
       "      <td>Pousada Porto Praia</td>\n",
       "    </tr>\n",
       "    <tr>\n",
       "      <td>456</td>\n",
       "      <td>Ilhabela</td>\n",
       "      <td>BR</td>\n",
       "      <td>76.32</td>\n",
       "      <td>-23.78</td>\n",
       "      <td>-45.36</td>\n",
       "      <td>overcast clouds</td>\n",
       "      <td>Ilha Flat Hotel</td>\n",
       "    </tr>\n",
       "    <tr>\n",
       "      <td>534</td>\n",
       "      <td>Porto Novo</td>\n",
       "      <td>BR</td>\n",
       "      <td>78.80</td>\n",
       "      <td>-23.68</td>\n",
       "      <td>-45.44</td>\n",
       "      <td>broken clouds</td>\n",
       "      <td>Harmonia</td>\n",
       "    </tr>\n",
       "  </tbody>\n",
       "</table>\n",
       "</div>"
      ],
      "text/plain": [
       "                    City Country  Max Temp    Lat    Lng Weather Description  \\\n",
       "City_ID                                                                        \n",
       "426           Nepomuceno      BR     83.77 -21.23 -45.23     overcast clouds   \n",
       "13       Arraial Do Cabo      BR     82.40 -22.97 -42.02       broken clouds   \n",
       "456             Ilhabela      BR     76.32 -23.78 -45.36     overcast clouds   \n",
       "534           Porto Novo      BR     78.80 -23.68 -45.44       broken clouds   \n",
       "\n",
       "                  Hotel Name  \n",
       "City_ID                       \n",
       "426            Hotel Menezes  \n",
       "13       Pousada Porto Praia  \n",
       "456          Ilha Flat Hotel  \n",
       "534                 Harmonia  "
      ]
     },
     "execution_count": 158,
     "metadata": {},
     "output_type": "execute_result"
    }
   ],
   "source": [
    "destinations_df = (pd.concat([nepomuceno_df, arrail_do_cabo_df, ilhabela_df, porto_novo_df])).set_index(\"City_ID\")\n",
    "destinations_df"
   ]
  },
  {
   "cell_type": "code",
   "execution_count": 159,
   "metadata": {
    "scrolled": true
   },
   "outputs": [
    {
     "data": {
      "application/vnd.jupyter.widget-view+json": {
       "model_id": "2cc422c3eaa24113b56729bd83cf1f64",
       "version_major": 2,
       "version_minor": 0
      },
      "text/plain": [
       "Figure(layout=FigureLayout(height='420px'))"
      ]
     },
     "metadata": {},
     "output_type": "display_data"
    }
   ],
   "source": [
    "info_box_template = \"\"\"\n",
    "<dl>\n",
    "<dt>Hotel Name</dt><dd>{Hotel Name}</dd>\n",
    "<dt>City</dt><dd>{City}</dd>\n",
    "<dt>Country</dt><dd>{Country}</dd>\n",
    "<dt>Max Temp</dt><dd>{Max Temp} °F</dd>\n",
    "<dt>Weather Description/dt><dd>{Weather Description}</dd>\n",
    "</dl>\n",
    "\"\"\"\n",
    "\n",
    "# Store the DataFrame Row.\n",
    "destinations_info = [info_box_template.format(**row) for index, row in destinations_df.iterrows()]\n",
    "\n",
    "# Add a pop-up marker for each city.\n",
    "locations = destinations_df[[\"Lat\", \"Lng\"]]\n",
    "fig = gmaps.figure(center=(30.0, 31.0), zoom_level=2)\n",
    "marker_layer = gmaps.marker_layer(locations, info_box_content=destinations_info)\n",
    "fig.add_layer(marker_layer)\n",
    "\n",
    "# Call the figure to plot the data.\n",
    "fig"
   ]
  },
  {
   "cell_type": "code",
   "execution_count": null,
   "metadata": {},
   "outputs": [],
   "source": []
  }
 ],
 "metadata": {
  "kernelspec": {
   "display_name": "PythonData",
   "language": "python",
   "name": "pythondata"
  },
  "language_info": {
   "codemirror_mode": {
    "name": "ipython",
    "version": 3
   },
   "file_extension": ".py",
   "mimetype": "text/x-python",
   "name": "python",
   "nbconvert_exporter": "python",
   "pygments_lexer": "ipython3",
   "version": "3.6.9"
  }
 },
 "nbformat": 4,
 "nbformat_minor": 2
}
